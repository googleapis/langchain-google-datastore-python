{
  "cells": [
    {
      "cell_type": "markdown",
      "metadata": {},
      "source": [
        "# Google Firestore in Datastore Mode\n",
        "\n",
        "> [Firestore in Datastore Mode](https://cloud.google.com/datastore) is a NoSQL document database build for automatic scaling, high performance and ease of application development. Extend your database application to build AI-powered experiences leveraging Datastore's Langchain integrations.\n",
        "\n",
        "This notebook goes over how to use [Firestore in Datastore Mode](https://cloud.google.com/datastore) to save chat messages into `Firestore` in Datastore Mode.\n",
        "\n",
        "Learn more about the package on [GitHub](https://github.com/googleapis/langchain-google-datastore-python/).\n",
        "\n",
        "[![Open In Colab](https://colab.research.google.com/assets/colab-badge.svg)](https://colab.research.google.com/github/googleapis/langchain-google-datastore-python/blob/main/docs/chat_message_history.ipynb)"
      ]
    },
    {
      "cell_type": "markdown",
      "metadata": {},
      "source": [
        "## Before You Begin\n",
        "\n",
        "To run this notebook, you will need to do the following:\n",
        "\n",
        "* [Create a Google Cloud Project](https://developers.google.com/workspace/guides/create-project)\n",
        "* [Enable the Datastore API](https://console.cloud.google.com/flows/enableapi?apiid=datastore.googleapis.com)\n",
        "* [Create a Firestore in Datastore Mode database](https://cloud.google.com/datastore/docs/manage-databases)\n",
        "\n",
        "After confirmed access to database in the runtime environment of this notebook, filling the following values and run the cell before running example scripts."
      ]
    },
    {
      "cell_type": "markdown",
      "metadata": {},
      "source": [
        "### 🦜🔗 Library Installation\n",
        "\n",
        "The integration lives in its own `langchain-google-datastore` package, so we need to install it."
      ]
    },
    {
      "cell_type": "code",
      "execution_count": null,
      "metadata": {
        "tags": []
      },
      "outputs": [],
      "source": [
        "%pip install -upgrade --quiet langchain-google-datastore"
      ]
    },
    {
      "cell_type": "markdown",
      "metadata": {},
      "source": [
        "**Colab only**: Uncomment the following cell to restart the kernel or use the button to restart the kernel. For Vertex AI Workbench you can restart the terminal using the button on top."
      ]
    },
    {
      "cell_type": "code",
      "execution_count": null,
      "metadata": {},
      "outputs": [],
      "source": [
        "# # Automatically restart kernel after installs so that your environment can access the new packages\n",
        "# import IPython\n",
        "\n",
        "# app = IPython.Application.instance()\n",
        "# app.kernel.do_shutdown(True)"
      ]
    },
    {
      "cell_type": "markdown",
      "metadata": {},
      "source": [
        "### ☁ Set Your Google Cloud Project\n",
        "Set your Google Cloud project so that you can leverage Google Cloud resources within this notebook.\n",
        "\n",
        "If you don't know your project ID, try the following:\n",
        "\n",
        "* Run `gcloud config list`.\n",
        "* Run `gcloud projects list`.\n",
        "* See the support page: [Locate the project ID](https://support.google.com/googleapi/answer/7014113)."
      ]
    },
    {
      "cell_type": "code",
      "execution_count": null,
      "metadata": {},
      "outputs": [],
      "source": [
        "# @markdown Please fill in the value below with your Google Cloud project ID and then run the cell.\n",
        "\n",
        "PROJECT_ID = \"my-project-id\"  # @param {type:\"string\"}\n",
        "\n",
        "# Set the project id\n",
        "!gcloud config set project {PROJECT_ID}"
      ]
    },
    {
      "cell_type": "markdown",
      "metadata": {},
      "source": [
        "### 🔐 Authentication\n",
        "\n",
        "Authenticate to Google Cloud as the IAM user logged into this notebook in order to access your Google Cloud Project.\n",
        "\n",
        "- If you are using Colab to run this notebook, use the cell below and continue.\n",
        "- If you are using Vertex AI Workbench, check out the setup instructions [here](https://github.com/GoogleCloudPlatform/generative-ai/tree/main/setup-env)."
      ]
    },
    {
      "cell_type": "code",
      "execution_count": null,
      "metadata": {},
      "outputs": [],
      "source": [
        "from google.colab import auth\n",
        "\n",
        "auth.authenticate_user()"
      ]
    },
    {
      "cell_type": "markdown",
      "metadata": {},
      "source": [
        "## Basic Usage"
      ]
    },
    {
      "cell_type": "markdown",
      "metadata": {},
      "source": [
        "### DatastoreChatMessageHistory\n",
        "\n",
        "To initialize the `DatastoreChatMessageHistory` class you need to provide only 2 things:\n",
        "\n",
        "1. `session_id` - A unique identifier string that specifies an id for the session.\n",
        "1. `kind` : The name of the Datastore kind to write into. This is an optional value and by default it will use `ChatHistory` as the kind."
      ]
    },
    {
      "cell_type": "code",
      "execution_count": null,
      "metadata": {},
      "outputs": [],
      "source": [
        "from langchain_google_datastore import DatastoreChatMessageHistory\n",
        "\n",
        "chat_history = DatastoreChatMessageHistory(\n",
        "    session_id=\"user-session-id\", kind=\"HistoryMessages\"\n",
        ")\n",
        "\n",
        "chat_history.add_user_message(\"Hi!\")\n",
        "chat_history.add_ai_message(\"How can I help you?\")"
      ]
    },
    {
      "cell_type": "code",
      "execution_count": null,
      "metadata": {},
      "outputs": [],
      "source": [
        "chat_history.messages"
      ]
    },
    {
      "cell_type": "markdown",
      "metadata": {},
      "source": [
        "#### Cleanup\n",
        "\n",
        "When the history of a specific session is obsolete and can be deleted from the database and memory, it can be done the following way.\n",
        "\n",
        "**Note:** Once deleted, the data is no longer stored in Datastore and is gone forever."
      ]
    },
    {
      "cell_type": "code",
      "execution_count": null,
      "metadata": {},
      "outputs": [],
      "source": [
        "chat_history.clear()"
      ]
    },
    {
      "cell_type": "markdown",
      "metadata": {},
      "source": [
        "### Custom Client\n",
        "\n",
        "The client is created by default using the available environment variables. A [custom client](https://cloud.google.com/python/docs/reference/datastore/latest/client) can be passed to the constructor."
      ]
    },
    {
      "cell_type": "code",
      "execution_count": null,
      "metadata": {},
      "outputs": [],
      "source": [
        "from google.auth import compute_engine\n",
        "from google.cloud import datastore\n",
        "\n",
        "client = datastore.Client(\n",
        "    project=\"project-custom\",\n",
        "    database=\"non-default-database\",\n",
        "    credentials=compute_engine.Credentials(),\n",
        ")\n",
        "\n",
        "history = DatastoreChatMessageHistory(\n",
        "    session_id=\"session-id\", kind=\"History\", client=client\n",
        ")\n",
        "\n",
        "history.add_user_message(\"New message\")\n",
        "\n",
        "history.messages\n",
        "\n",
        "history.clear()"
      ]
    }
  ],
  "metadata": {
    "kernelspec": {
      "display_name": "Python 3 (ipykernel)",
      "language": "python",
      "name": "python3"
    },
    "language_info": {
      "codemirror_mode": {
        "name": "ipython",
        "version": 3
      },
      "file_extension": ".py",
      "mimetype": "text/x-python",
      "name": "python",
      "nbconvert_exporter": "python",
      "pygments_lexer": "ipython3",
      "version": "3.10.6"
    }
  },
  "nbformat": 4,
  "nbformat_minor": 4
}

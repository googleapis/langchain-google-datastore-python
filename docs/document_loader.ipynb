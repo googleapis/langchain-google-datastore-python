{
 "cells": [
  {
   "cell_type": "markdown",
   "metadata": {},
   "source": [
    "# Cloud Firestore in Datastore Mode\n",
    "\n",
    "[Cloud Firestore in Datastore Mode](https://cloud.google.com/datastore) is a NoSQL document database built for automatic scaling, high performance and ease of application development. \n",
    "\n",
    "Load and store documents from `Firestore` in Datastore Mode."
   ]
  },
  {
   "cell_type": "markdown",
   "metadata": {},
   "source": [
    "## Pre-reqs"
   ]
  },
  {
   "cell_type": "code",
   "execution_count": null,
   "metadata": {
    "tags": []
   },
   "outputs": [],
   "source": [
    "%pip install langchain-google-datastore"
   ]
  },
  {
   "cell_type": "code",
   "execution_count": 3,
   "metadata": {
    "tags": []
   },
   "outputs": [],
   "source": [
    "from langchain_google_datastore import DatastoreLoader, DatastoreSaver "
   ]
  },
  {
   "cell_type": "markdown",
   "metadata": {},
   "source": [
    "## Basic Usage"
   ]
  },
  {
   "cell_type": "markdown",
   "metadata": {},
   "source": [
    "### Load from Kind"
   ]
  },
  {
   "cell_type": "code",
   "execution_count": 6,
   "metadata": {},
   "outputs": [],
   "source": [
    "loader = DatastoreLoader(\"MyKind\")\n",
    "\n",
    "data = loader.load()"
   ]
  },
  {
   "cell_type": "markdown",
   "metadata": {},
   "source": [
    "### Load from queries"
   ]
  },
  {
   "cell_type": "code",
   "execution_count": null,
   "metadata": {},
   "outputs": [],
   "source": [
    "from google.cloud import datastore\n",
    "\n",
    "client = datastore.Client(\n",
    "    database=\"non-default-db\",\n",
    "    namespace=\"custom_namespace\"\n",
    ")\n",
    "query_load = client.query(kind=\"MyKind\")\n",
    "query_load.add_filter(\"region\", \"=\", \"west_coast\")\n",
    "\n",
    "loader_document = FirestoreLoader(doc_ref)\n",
    "\n",
    "data = loader_document.load()"
   ]
  },
  {
   "cell_type": "markdown",
   "metadata": {},
   "source": [
    "## Customize Document Page Content & Metadata\n",
    "\n",
    "The arguments of `page_content_properties` and `metadata_properties` will specify the Firestore Entity properties to be written into LangChain Document `page_content` and `metadata`."
   ]
  },
  {
   "cell_type": "code",
   "execution_count": 8,
   "metadata": {},
   "outputs": [],
   "source": [
    "loader = DatastoreLoader(\n",
    "    source=\"foo/bar/subcol\",\n",
    "    page_content_fields=[\"data_field\"],\n",
    "    metadata_fields=[\"metadata_field\"],\n",
    ")\n",
    "\n",
    "data = loader.load()"
   ]
  },
  {
   "cell_type": "markdown",
   "metadata": {},
   "source": [
    "### Customize Page Content Format\n",
    "\n",
    "When the `page_content` contains only one field the information will be the field value only. Otherwise the `page_content` will be in JSON format."
   ]
  },
  {
   "cell_type": "markdown",
   "metadata": {},
   "source": [
    "## Save Documents\n",
    "\n",
    "`DatastoreSaver` can store LangChain Documents into Firestore in Datastore Mode. By default it will try to extract the entity key from the `key` in the Document metadata."
   ]
  },
  {
   "cell_type": "code",
   "execution_count": null,
   "metadata": {},
   "outputs": [],
   "source": [
    "saver = DatastoreSaver()\n",
    "\n",
    "saver.upsert_documents(data)"
   ]
  },
  {
   "cell_type": "markdown",
   "metadata": {},
   "source": [
    "### Save Documents without key\n",
    "\n",
    "If a `kind` is specified the documents will be stored with an auto generated id."
   ]
  },
  {
   "cell_type": "code",
   "execution_count": null,
   "metadata": {},
   "outputs": [],
   "source": [
    "saver = DatastoreSaver(\"MyKind\")\n",
    "\n",
    "saver.upsert_documents(data)"
   ]
  },
  {
   "cell_type": "markdown",
   "metadata": {},
   "source": [
    "### Delete Documents"
   ]
  },
  {
   "cell_type": "code",
   "execution_count": null,
   "metadata": {},
   "outputs": [],
   "source": [
    "saver = DatastoreSaver()\n",
    "\n",
    "saver.delete_documents(data)\n",
    "\n",
    "keys_to_delete = [[\"Kind1\", \"identifier\"], [\"Kind2\", 123], [\"Kind3\",\"identifier\",\"NestedKind\",456]]\n",
    "# The Documents will be ignored and only the document ids will be used.\n",
    "saver.delete_documents(data, keys_to_delete)"
   ]
  },
  {
   "cell_type": "markdown",
   "metadata": {},
   "source": [
    "## Customize Connection & Authentication"
   ]
  },
  {
   "cell_type": "code",
   "execution_count": null,
   "metadata": {},
   "outputs": [],
   "source": [
    "from google.auth import compute_engine\n",
    "from google.cloud.firestore import Client\n",
    "\n",
    "client = Client(\n",
    "    database = \"non-default-db\",\n",
    "    creds=compute_engine.Credentials())\n",
    "loader = DatastoreLoader(\n",
    "    source=\"foo\"\n",
    "    client=client,\n",
    ")"
   ]
  }
 ],
 "metadata": {
  "kernelspec": {
   "display_name": "Python 3 (ipykernel)",
   "language": "python",
   "name": "python3"
  },
  "language_info": {
   "codemirror_mode": {
    "name": "ipython",
    "version": 3
   },
   "file_extension": ".py",
   "mimetype": "text/x-python",
   "name": "python",
   "nbconvert_exporter": "python",
   "pygments_lexer": "ipython3",
   "version": "3.10.6"
  }
 },
 "nbformat": 4,
 "nbformat_minor": 4
}
